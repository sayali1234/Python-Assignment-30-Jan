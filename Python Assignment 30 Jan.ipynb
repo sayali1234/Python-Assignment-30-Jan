{
 "cells": [
  {
   "cell_type": "markdown",
   "id": "6e716d9d-1b28-4a7d-a8af-e0ab58cb8a8b",
   "metadata": {},
   "source": [
    "Q1) write a program to accept percentage from user and display the grade according to the following criteria:"
   ]
  },
  {
   "cell_type": "code",
   "execution_count": null,
   "id": "4ed72e4e-a99e-4ee1-888f-bce55773243f",
   "metadata": {},
   "outputs": [],
   "source": [
    "Marks                Grade\n",
    ">90                    A\n",
    ">80 and <=90           B\n",
    ">=60 and <=80          C\n",
    "below 60               D"
   ]
  },
  {
   "cell_type": "code",
   "execution_count": 1,
   "id": "5fc83774-5de4-4a13-a9c9-5e91ed9ffab9",
   "metadata": {},
   "outputs": [
    {
     "name": "stdin",
     "output_type": "stream",
     "text": [
      "Enter the percentage: 87\n"
     ]
    },
    {
     "name": "stdout",
     "output_type": "stream",
     "text": [
      "Grade B\n"
     ]
    }
   ],
   "source": [
    "percent = int(input(\"Enter the percentage:\"))\n",
    "\n",
    "if percent <= 100 and percent > 90:\n",
    "    print(\"Grade A\")\n",
    "    \n",
    "elif percent > 80:\n",
    "    print(\"Grade B\")\n",
    "    \n",
    "elif percent >= 60 :\n",
    "    print(\"Grade C\")\n",
    "    \n",
    "else:\n",
    "    print(\"Grade D\")"
   ]
  },
  {
   "cell_type": "markdown",
   "id": "36a8727c-5a2c-4e48-869b-2cde1e3a730d",
   "metadata": {},
   "source": [
    "Q2) write a program to accept the cost price of bike and display the road tax to be paid according to the following critria:"
   ]
  },
  {
   "cell_type": "code",
   "execution_count": null,
   "id": "0cacf3db-a171-4ecb-8a71-b9c134f56df1",
   "metadata": {},
   "outputs": [],
   "source": [
    "Tax       Cost Price(in Rs)\n",
    "15%        >100000\n",
    "10%        >50000 and <=100000\n",
    "5%         <=50000"
   ]
  },
  {
   "cell_type": "code",
   "execution_count": 2,
   "id": "ed8f2005-8a05-4a56-a412-c9db7704a157",
   "metadata": {},
   "outputs": [
    {
     "name": "stdin",
     "output_type": "stream",
     "text": [
      "Enter Bike price: 75000\n"
     ]
    },
    {
     "name": "stdout",
     "output_type": "stream",
     "text": [
      "Your road tax is 7500.0\n"
     ]
    }
   ],
   "source": [
    "bike_price=int(input(\"Enter Bike price:\"))\n",
    "\n",
    "if bike_price > 100000:\n",
    "    tax=(15 / 100) * bike_price\n",
    "    \n",
    "elif bike_price > 50000:\n",
    "    tax=(10 / 100) * bike_price\n",
    "    \n",
    "else:\n",
    "    tax=(5 / 100) * bike_price\n",
    "    \n",
    "print(f\"Your road tax is {tax}\")"
   ]
  },
  {
   "cell_type": "markdown",
   "id": "ae508f32-71e9-4d10-9336-0a4339824433",
   "metadata": {},
   "source": [
    "Q3) Accept any city from the user and display monuments of that city."
   ]
  },
  {
   "cell_type": "code",
   "execution_count": null,
   "id": "cf564d33-5b4f-46ce-9be3-e74df627bde1",
   "metadata": {},
   "outputs": [],
   "source": [
    "City      Monument\n",
    "Delhi     Red Fort\n",
    "Agra      Taj Mahal\n",
    "Jaipur    Jal Mahal"
   ]
  },
  {
   "cell_type": "code",
   "execution_count": 3,
   "id": "d481fd1d-ecc2-4e56-a1ea-c2cebe5b33d3",
   "metadata": {},
   "outputs": [
    {
     "name": "stdin",
     "output_type": "stream",
     "text": [
      "Enter your city name: Jaipur\n"
     ]
    },
    {
     "name": "stdout",
     "output_type": "stream",
     "text": [
      "Jal Mahal\n"
     ]
    }
   ],
   "source": [
    "city = input(\"Enter your city name:\").capitalize()\n",
    "\n",
    "if city == \"Delhi\":\n",
    "    print(\"Red Fort\")\n",
    "    \n",
    "elif city == \"Agra\":\n",
    "    print(\"Taj Mahal\")\n",
    "    \n",
    "elif city == \"Jaipur\":\n",
    "    print(\"Jal Mahal\")\n",
    "    \n",
    "else:\n",
    "    print(\"Sorry, your city is not in our list\")\n",
    "    "
   ]
  },
  {
   "cell_type": "markdown",
   "id": "f1d86c51-4f6c-4cc7-9d70-257bb05a6e99",
   "metadata": {},
   "source": [
    "Q4) check how many times a given number can be divided by 3 before it is less than or equal to 10."
   ]
  },
  {
   "cell_type": "code",
   "execution_count": 4,
   "id": "4f2f9fdf-9c9a-45c6-a234-d81e1a523e52",
   "metadata": {},
   "outputs": [
    {
     "name": "stdin",
     "output_type": "stream",
     "text": [
      "Enter a number: 27\n"
     ]
    },
    {
     "name": "stdout",
     "output_type": "stream",
     "text": [
      "The count is: 1\n"
     ]
    }
   ],
   "source": [
    "number=int(input(\"Enter a number:\"))\n",
    "count=0\n",
    "\n",
    "while number > 10 :\n",
    "    number //= 3\n",
    "    count = count+1\n",
    "    \n",
    "print(\"The count is:\",count)    \n",
    "    "
   ]
  },
  {
   "cell_type": "markdown",
   "id": "9c1c3574-8495-4f90-8d60-96f34708376e",
   "metadata": {},
   "source": [
    "Q5) why and when to use while loop in python give a detailed description with example."
   ]
  },
  {
   "cell_type": "code",
   "execution_count": null,
   "id": "41f413a6-68e2-41cb-a367-dc519cbb2e8a",
   "metadata": {},
   "outputs": [],
   "source": [
    " You should use a while loop when you need to repeatedly execute a block of code as long as a certain condition is true. A while loop is useful when you do not \n",
    "    know beforehand how many times you need to iterate, or when the number of iterations depends on some changing conditions."
   ]
  },
  {
   "cell_type": "code",
   "execution_count": 5,
   "id": "49de4135-954b-4cc8-9ceb-f54c154c032e",
   "metadata": {},
   "outputs": [
    {
     "name": "stdout",
     "output_type": "stream",
     "text": [
      "0 1 2 3 4 "
     ]
    }
   ],
   "source": [
    "count = 0\n",
    "while count < 5:\n",
    "    print(count,end = \" \")\n",
    "    count += 1"
   ]
  },
  {
   "cell_type": "markdown",
   "id": "7e5ff5f9-6de7-4f7e-bb71-e7ea5a65ffa6",
   "metadata": {},
   "source": [
    "Q6) use nested while loop to print 3 different pattern."
   ]
  },
  {
   "cell_type": "code",
   "execution_count": 6,
   "id": "cc734653-1f7d-40ff-a3cd-e4b9e619dbdb",
   "metadata": {},
   "outputs": [
    {
     "name": "stdin",
     "output_type": "stream",
     "text": [
      "Enter numbers of rows: 7\n"
     ]
    },
    {
     "name": "stdout",
     "output_type": "stream",
     "text": [
      "* \n",
      "* * \n",
      "* * * \n",
      "* * * * \n",
      "* * * * * \n",
      "* * * * * * \n",
      "* * * * * * * \n"
     ]
    }
   ],
   "source": [
    "# Pattern1\n",
    "\n",
    "n = int(input(\"Enter numbers of rows:\"))\n",
    "i=1\n",
    "while i<=n:\n",
    "    j=1\n",
    "    while j<=i:\n",
    "        print(\"*\",end=\" \")\n",
    "        j=j+1\n",
    "    print()\n",
    "    i=i+1\n",
    "    "
   ]
  },
  {
   "cell_type": "code",
   "execution_count": null,
   "id": "76081180-ef0b-4aca-94e8-60a631b55cd2",
   "metadata": {},
   "outputs": [],
   "source": [
    "# pattern-2\n",
    "\n",
    "n = int(input(\"Enter numbers of rows:\"))\n",
    "i=1\n",
    "while i<=n:\n",
    "    j=n\n",
    "    while j>=i:\n",
    "        print(\"*\",end=\" \")\n",
    "        j=j-1\n",
    "\n",
    "    print()\n",
    "    i=i+1"
   ]
  },
  {
   "cell_type": "code",
   "execution_count": 8,
   "id": "c318e0ae-002a-4ad6-a077-050375da69ec",
   "metadata": {},
   "outputs": [
    {
     "name": "stdin",
     "output_type": "stream",
     "text": [
      "Enter numbers of rows: 7\n"
     ]
    },
    {
     "name": "stdout",
     "output_type": "stream",
     "text": [
      "1 \n",
      "2 3 \n",
      "4 5 6 \n",
      "7 8 9 10 \n",
      "11 12 13 14 15 \n",
      "16 17 18 19 20 21 \n",
      "22 23 24 25 26 27 28 \n"
     ]
    }
   ],
   "source": [
    "# pattern-3\n",
    "\n",
    "n = int(input(\"Enter numbers of rows:\"))\n",
    "i=1\n",
    "k=1\n",
    "while i<=n:\n",
    "    j=1\n",
    "    while j<=i:\n",
    "        print(k,end=\" \")\n",
    "        j=j+1\n",
    "        k=k+1\n",
    "    print()\n",
    "    i=i+1"
   ]
  },
  {
   "cell_type": "markdown",
   "id": "6e57ab74-0481-49e7-b6cc-c76103a30d68",
   "metadata": {},
   "source": [
    "Q7) Reverse a while loop to display a number from 10 to 1."
   ]
  },
  {
   "cell_type": "code",
   "execution_count": null,
   "id": "5e2a5576-f0de-4a8a-b6cf-c32ffc3544f7",
   "metadata": {},
   "outputs": [],
   "source": []
  }
 ],
 "metadata": {
  "kernelspec": {
   "display_name": "Python 3 (ipykernel)",
   "language": "python",
   "name": "python3"
  },
  "language_info": {
   "codemirror_mode": {
    "name": "ipython",
    "version": 3
   },
   "file_extension": ".py",
   "mimetype": "text/x-python",
   "name": "python",
   "nbconvert_exporter": "python",
   "pygments_lexer": "ipython3",
   "version": "3.10.8"
  }
 },
 "nbformat": 4,
 "nbformat_minor": 5
}
